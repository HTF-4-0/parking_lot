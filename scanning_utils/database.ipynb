{
 "cells": [
  {
   "cell_type": "code",
   "execution_count": 1,
   "metadata": {},
   "outputs": [],
   "source": [
    "import sqlite3\n",
    "\n",
    "# Connect to the database (or create it if it doesn't exist)\n",
    "conn = sqlite3.connect('parking.csv')\n",
    "cursor = conn.cursor()"
   ]
  },
  {
   "cell_type": "code",
   "execution_count": 2,
   "metadata": {},
   "outputs": [
    {
     "data": {
      "text/plain": [
       "<sqlite3.Cursor at 0x1c0d20fe7c0>"
      ]
     },
     "execution_count": 2,
     "metadata": {},
     "output_type": "execute_result"
    }
   ],
   "source": [
    "cursor.execute(\n",
    "    '''CREATE TABLE IF NOT EXISTS parking (\n",
    "        pid INTEGER PRIMARY KEY,\n",
    "        car TEXT\n",
    "    );\n",
    "    '''\n",
    ")"
   ]
  },
  {
   "cell_type": "code",
   "execution_count": 3,
   "metadata": {},
   "outputs": [],
   "source": [
    "cursor.execute(\"\"\"\n",
    "    INSERT INTO parking VALUES\n",
    "    (1,NULL),\n",
    "    (2,NULL),\n",
    "    (3,NULL),\n",
    "    (4,NULL),\n",
    "    (5,NULL);\n",
    "\"\"\")\n",
    "conn.commit()"
   ]
  },
  {
   "cell_type": "code",
   "execution_count": 4,
   "metadata": {},
   "outputs": [
    {
     "name": "stdout",
     "output_type": "stream",
     "text": [
      "pid car\n",
      "1 empty\n",
      "2 empty\n",
      "3 empty\n",
      "4 empty\n",
      "5 empty\n"
     ]
    }
   ],
   "source": [
    "def view_parking():\n",
    "    cursor.execute(\"SELECT * FROM parking\")\n",
    "    rows = cursor.fetchall()\n",
    "    # display it well\n",
    "    print(\"pid car\")\n",
    "    for row in rows:\n",
    "        print(row[0], row[1] if row[1] else \"empty\")\n",
    "\n",
    "view_parking()"
   ]
  },
  {
   "cell_type": "code",
   "execution_count": 14,
   "metadata": {},
   "outputs": [],
   "source": [
    "def park_car(pid, car):\n",
    "    cursor.execute(f\"\"\"\n",
    "        UPDATE parking\n",
    "        SET car=\"{car}\"\n",
    "        WHERE pid = {pid};\n",
    "    \"\"\")\n",
    "    conn.commit()\n",
    "\n",
    "def unpark_car(pid):\n",
    "    cursor.execute(f\"\"\"\n",
    "        UPDATE parking\n",
    "        SET car=NULL\n",
    "        WHERE pid = {pid};\n",
    "    \"\"\")\n",
    "    conn.commit()"
   ]
  },
  {
   "cell_type": "code",
   "execution_count": null,
   "metadata": {},
   "outputs": [],
   "source": [
    "def get_car(pid):\n",
    "    cursor.execute(f\"\"\"\n",
    "        SELECT car\n",
    "        FROM parking\n",
    "        WHERE pid = {pid};\n",
    "    \"\"\")\n",
    "    return cursor.fetchone()[0]"
   ]
  },
  {
   "cell_type": "code",
   "execution_count": 15,
   "metadata": {},
   "outputs": [
    {
     "name": "stdout",
     "output_type": "stream",
     "text": [
      "pid car\n",
      "1 MH01 1234\n",
      "2 empty\n",
      "3 empty\n",
      "4 empty\n",
      "5 empty\n",
      "pid car\n",
      "1 MH01 1234\n",
      "2 MH01 5678\n",
      "3 empty\n",
      "4 empty\n",
      "5 empty\n",
      "pid car\n",
      "1 empty\n",
      "2 MH01 5678\n",
      "3 empty\n",
      "4 empty\n",
      "5 empty\n",
      "pid car\n",
      "1 empty\n",
      "2 empty\n",
      "3 empty\n",
      "4 empty\n",
      "5 empty\n"
     ]
    }
   ],
   "source": [
    "park_car(1, \"MH01 1234\")\n",
    "view_parking()\n",
    "park_car(2, \"MH01 5678\")\n",
    "view_parking()\n",
    "unpark_car(1)\n",
    "view_parking()\n",
    "unpark_car(2)\n",
    "view_parking()"
   ]
  },
  {
   "cell_type": "code",
   "execution_count": null,
   "metadata": {},
   "outputs": [],
   "source": [
    "cursor.execute(\"UPDATE users SET email = ? WHERE id = ?\", ('john.doe@example.com', 1))\n",
    "conn.commit()"
   ]
  },
  {
   "cell_type": "code",
   "execution_count": 24,
   "metadata": {},
   "outputs": [
    {
     "name": "stdout",
     "output_type": "stream",
     "text": [
      "pid car\n"
     ]
    }
   ],
   "source": [
    "view_parking()"
   ]
  },
  {
   "cell_type": "code",
   "execution_count": 23,
   "metadata": {},
   "outputs": [],
   "source": [
    "cursor.execute(\"DELETE FROM parking\")\n",
    "conn.commit()"
   ]
  }
 ],
 "metadata": {
  "kernelspec": {
   "display_name": "Python 3",
   "language": "python",
   "name": "python3"
  },
  "language_info": {
   "codemirror_mode": {
    "name": "ipython",
    "version": 3
   },
   "file_extension": ".py",
   "mimetype": "text/x-python",
   "name": "python",
   "nbconvert_exporter": "python",
   "pygments_lexer": "ipython3",
   "version": "3.10.8"
  }
 },
 "nbformat": 4,
 "nbformat_minor": 2
}
