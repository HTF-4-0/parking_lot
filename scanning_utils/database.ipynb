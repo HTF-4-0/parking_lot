{
 "cells": [
  {
   "cell_type": "code",
   "execution_count": 2,
   "metadata": {},
   "outputs": [],
   "source": [
    "import sqlite3\n",
    "\n",
    "# Connect to the database (or create it if it doesn't exist)\n",
    "conn = sqlite3.connect('cars.db')\n",
    "cursor = conn.cursor()"
   ]
  },
  {
   "cell_type": "code",
   "execution_count": 3,
   "metadata": {},
   "outputs": [
    {
     "data": {
      "text/plain": [
       "<sqlite3.Cursor at 0x28bc32ee8c0>"
      ]
     },
     "execution_count": 3,
     "metadata": {},
     "output_type": "execute_result"
    }
   ],
   "source": [
    "cursor.execute(\n",
    "    '''CREATE TABLE IF NOT EXISTS parking (\n",
    "        pid INTEGER PRIMARY KEY,\n",
    "        car TEXT\n",
    "    );\n",
    "    '''\n",
    ")"
   ]
  },
  {
   "cell_type": "code",
   "execution_count": 26,
   "metadata": {},
   "outputs": [
    {
     "ename": "IntegrityError",
     "evalue": "UNIQUE constraint failed: parking.pid",
     "output_type": "error",
     "traceback": [
      "\u001b[1;31m---------------------------------------------------------------------------\u001b[0m",
      "\u001b[1;31mIntegrityError\u001b[0m                            Traceback (most recent call last)",
      "Cell \u001b[1;32mIn[26], line 1\u001b[0m\n\u001b[1;32m----> 1\u001b[0m \u001b[43mcursor\u001b[49m\u001b[38;5;241;43m.\u001b[39;49m\u001b[43mexecute\u001b[49m\u001b[43m(\u001b[49m\u001b[38;5;124;43m\"\"\"\u001b[39;49m\n\u001b[0;32m      2\u001b[0m \u001b[38;5;124;43m    INSERT INTO parking VALUES\u001b[39;49m\n\u001b[0;32m      3\u001b[0m \u001b[38;5;124;43m    (1,NULL),\u001b[39;49m\n\u001b[0;32m      4\u001b[0m \u001b[38;5;124;43m    (2,NULL),\u001b[39;49m\n\u001b[0;32m      5\u001b[0m \u001b[38;5;124;43m    (3,NULL),\u001b[39;49m\n\u001b[0;32m      6\u001b[0m \u001b[38;5;124;43m    (4,NULL),\u001b[39;49m\n\u001b[0;32m      7\u001b[0m \u001b[38;5;124;43m    (5,NULL);\u001b[39;49m\n\u001b[0;32m      8\u001b[0m \u001b[38;5;124;43m\"\"\"\u001b[39;49m\u001b[43m)\u001b[49m\n\u001b[0;32m      9\u001b[0m conn\u001b[38;5;241m.\u001b[39mcommit()\n",
      "\u001b[1;31mIntegrityError\u001b[0m: UNIQUE constraint failed: parking.pid"
     ]
    }
   ],
   "source": [
    "cursor.execute(\"\"\"\n",
    "    INSERT INTO parking VALUES\n",
    "    (1,NULL),\n",
    "    (2,NULL),\n",
    "    (3,NULL),\n",
    "    (4,NULL),\n",
    "    (5,NULL);\n",
    "\"\"\")\n",
    "conn.commit()"
   ]
  },
  {
   "cell_type": "code",
   "execution_count": 27,
   "metadata": {},
   "outputs": [
    {
     "name": "stdout",
     "output_type": "stream",
     "text": [
      "pid car\n",
      "1 empty\n",
      "2 empty\n",
      "3 empty\n",
      "4 empty\n",
      "5 empty\n"
     ]
    }
   ],
   "source": [
    "def view_parking():\n",
    "    cursor.execute(\"SELECT * FROM parking\")\n",
    "    rows = cursor.fetchall()\n",
    "    # display it well\n",
    "    print(\"pid car\")\n",
    "    for row in rows:\n",
    "        print(row[0], row[1] if row[1] else \"empty\")\n",
    "\n",
    "view_parking()"
   ]
  },
  {
   "cell_type": "code",
   "execution_count": 14,
   "metadata": {},
   "outputs": [],
   "source": [
    "def park_car(pid, car):\n",
    "    cursor.execute(f\"\"\"\n",
    "        UPDATE parking\n",
    "        SET car=\"{car}\"\n",
    "        WHERE pid = {pid};\n",
    "    \"\"\")\n",
    "    conn.commit()\n",
    "\n",
    "def unpark_car(pid):\n",
    "    cursor.execute(f\"\"\"\n",
    "        UPDATE parking\n",
    "        SET car=NULL\n",
    "        WHERE pid = {pid};\n",
    "    \"\"\")\n",
    "    conn.commit()"
   ]
  },
  {
   "cell_type": "code",
   "execution_count": null,
   "metadata": {},
   "outputs": [],
   "source": [
    "def get_car(pid):\n",
    "    cursor.execute(f\"\"\"\n",
    "        SELECT car\n",
    "        FROM parking\n",
    "        WHERE pid = {pid};\n",
    "    \"\"\")\n",
    "    return cursor.fetchone()[0]"
   ]
  },
  {
   "cell_type": "code",
   "execution_count": 15,
   "metadata": {},
   "outputs": [
    {
     "name": "stdout",
     "output_type": "stream",
     "text": [
      "pid car\n",
      "1 MH01 1234\n",
      "2 empty\n",
      "3 empty\n",
      "4 empty\n",
      "5 empty\n",
      "pid car\n",
      "1 MH01 1234\n",
      "2 MH01 5678\n",
      "3 empty\n",
      "4 empty\n",
      "5 empty\n",
      "pid car\n",
      "1 empty\n",
      "2 MH01 5678\n",
      "3 empty\n",
      "4 empty\n",
      "5 empty\n",
      "pid car\n",
      "1 empty\n",
      "2 empty\n",
      "3 empty\n",
      "4 empty\n",
      "5 empty\n"
     ]
    }
   ],
   "source": [
    "park_car(1, \"MH01 1234\")\n",
    "view_parking()\n",
    "park_car(2, \"MH01 5678\")\n",
    "view_parking()\n",
    "unpark_car(1)\n",
    "view_parking()\n",
    "unpark_car(2)\n",
    "view_parking()"
   ]
  },
  {
   "cell_type": "code",
   "execution_count": null,
   "metadata": {},
   "outputs": [],
   "source": [
    "cursor.execute(\"UPDATE users SET email = ? WHERE id = ?\", ('john.doe@example.com', 1))\n",
    "conn.commit()"
   ]
  },
  {
   "cell_type": "code",
   "execution_count": 24,
   "metadata": {},
   "outputs": [
    {
     "name": "stdout",
     "output_type": "stream",
     "text": [
      "pid car\n"
     ]
    }
   ],
   "source": [
    "view_parking()"
   ]
  },
  {
   "cell_type": "code",
   "execution_count": 23,
   "metadata": {},
   "outputs": [],
   "source": [
    "cursor.execute(\"DELETE FROM parking\")\n",
    "conn.commit()"
   ]
  }
 ],
 "metadata": {
  "kernelspec": {
   "display_name": "Python 3",
   "language": "python",
   "name": "python3"
  },
  "language_info": {
   "codemirror_mode": {
    "name": "ipython",
    "version": 3
   },
   "file_extension": ".py",
   "mimetype": "text/x-python",
   "name": "python",
   "nbconvert_exporter": "python",
   "pygments_lexer": "ipython3",
   "version": "3.10.8"
  }
 },
 "nbformat": 4,
 "nbformat_minor": 2
}
